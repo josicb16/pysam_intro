{
  "cells": [
    {
      "cell_type": "code",
      "execution_count": 1,
      "metadata": {
        "colab": {
          "base_uri": "https://localhost:8080/"
        },
        "id": "utXZv8j-pG1f",
        "outputId": "33675da5-9b84-4ebd-c047-a5b4333029ce"
      },
      "outputs": [
        {
          "output_type": "stream",
          "name": "stdout",
          "text": [
            "Looking in indexes: https://pypi.org/simple, https://us-python.pkg.dev/colab-wheels/public/simple/\n",
            "Requirement already satisfied: pysam in /usr/local/lib/python3.9/dist-packages (0.20.0)\n"
          ]
        }
      ],
      "source": [
        "pip install pysam"
      ]
    },
    {
      "cell_type": "code",
      "execution_count": 2,
      "metadata": {
        "id": "1fKtPe5HnvXL"
      },
      "outputs": [],
      "source": [
        "import pysam"
      ]
    },
    {
      "cell_type": "code",
      "execution_count": 20,
      "metadata": {
        "id": "kzUQa-4T3mA9"
      },
      "outputs": [],
      "source": [
        "bamfile = pysam.AlignmentFile(\"merged-normal.bam\", \"rb\")"
      ]
    },
    {
      "cell_type": "code",
      "execution_count": 21,
      "metadata": {
        "id": "DH8hGwOD3rCb"
      },
      "outputs": [],
      "source": [
        "# Loading the first 10 reads from the bam file"
      ]
    },
    {
      "cell_type": "code",
      "execution_count": 22,
      "metadata": {
        "colab": {
          "base_uri": "https://localhost:8080/"
        },
        "id": "8yraDiki5zH7",
        "outputId": "2f7b9eb2-9130-4675-ea24-586dbd291dc1"
      },
      "outputs": [
        {
          "output_type": "stream",
          "name": "stdout",
          "text": [
            "D0MBKACXX120224:2:2206:17237:35667\t99\t#20\t9483248\t27\t76M\t#20\t9483399\t227\tCTTTTCAAACAGTATCTATGCCTGCCAAATGTGAACATATAAAAAAAAACCAGAATGTGCCATTCTGATTTAAACT\tarray('B', [32, 33, 29, 29, 33, 37, 32, 37, 35, 40, 35, 41, 30, 31, 31, 41, 35, 30, 31, 39, 39, 38, 35, 41, 39, 38, 34, 36, 36, 31, 41, 31, 41, 33, 36, 40, 35, 31, 32, 31, 32, 36, 37, 36, 36, 36, 36, 36, 37, 40, 38, 35, 41, 34, 37, 31, 42, 31, 40, 38, 37, 33, 31, 31, 38, 36, 40, 34, 31, 34, 31, 30, 33, 30, 32, 33])\t[('XA', 'GL000217.1,-110755,76M,1;'), ('BD', 'NNNNNNNNNNNNNNNNNNNNNNNNNNNNNNNNNNNNNNNNNNNNNNNNNNNNNNNNNNNNNNNNNNNNNNNNNNNN'), ('MD', '76'), ('RG', '1'), ('BI', 'NNNNNNNNNNNNNNNNNNNNNNNNNNNNNNNNNNNNNNNNNNNNNNNNNNNNNNNNNNNNNNNNNNNNNNNNNNNN'), ('NM', 0), ('MQ', 27), ('AS', 76), ('XS', 71)]\n"
          ]
        }
      ],
      "source": [
        "reads = []\n",
        "i = 10\n",
        "\n",
        "for read in bamfile:\n",
        "  if i==0: break\n",
        "  reads.append(read)\n",
        "  i-=1\n",
        "\n",
        "segment = reads[0]\n",
        "\n",
        "print(segment)"
      ]
    },
    {
      "cell_type": "code",
      "execution_count": 23,
      "metadata": {
        "id": "gGBtdHYO_Pq6"
      },
      "outputs": [],
      "source": [
        "# First read info"
      ]
    },
    {
      "cell_type": "code",
      "execution_count": 24,
      "metadata": {
        "colab": {
          "base_uri": "https://localhost:8080/"
        },
        "id": "tWncAZa9HeFf",
        "outputId": "e0ee6862-8479-4add-df8e-5797baac38d7"
      },
      "outputs": [
        {
          "output_type": "stream",
          "name": "stdout",
          "text": [
            "read name:\n",
            "D0MBKACXX120224:2:2206:17237:35667\n",
            "\n",
            "read sequence:\n",
            "CTTTTCAAACAGTATCTATGCCTGCCAAATGTGAACATATAAAAAAAAACCAGAATGTGCCATTCTGATTTAAACT\n",
            "\n",
            "read length:\n",
            "76\n",
            "\n",
            "the read is paired in sequencing\n",
            "\n",
            "forward read\n",
            "\n",
            "--------------------------------------------------------------------------------------\n",
            "reference id:\n",
            "20\n",
            "\n",
            "reference length:\n",
            "76\n",
            "\n",
            "--------------------------------------------------------------------------------------\n",
            "alignment starts at the position:\n",
            "9483247\n",
            "\n",
            "alignment ends on the position:\n",
            "9483323\n",
            "\n",
            "aligned into reference sequence:\n",
            "CTTTTCAAACAGTATCTATGCCTGCCAAATGTGAACATATAAAAAAAAACCAGAATGTGCCATTCTGATTTAAACT\n",
            "\n",
            "cigarstring:\n",
            "76M\n",
            "\n",
            "cigar alignment:\n",
            "[(0, 76)]\n",
            "\n",
            "aligned pairs (read pos, reference pos):\n",
            "[(0, 9483247), (1, 9483248), (2, 9483249), (3, 9483250), (4, 9483251), (5, 9483252), (6, 9483253), (7, 9483254), (8, 9483255), (9, 9483256), (10, 9483257), (11, 9483258), (12, 9483259), (13, 9483260), (14, 9483261), (15, 9483262), (16, 9483263), (17, 9483264), (18, 9483265), (19, 9483266), (20, 9483267), (21, 9483268), (22, 9483269), (23, 9483270), (24, 9483271), (25, 9483272), (26, 9483273), (27, 9483274), (28, 9483275), (29, 9483276), (30, 9483277), (31, 9483278), (32, 9483279), (33, 9483280), (34, 9483281), (35, 9483282), (36, 9483283), (37, 9483284), (38, 9483285), (39, 9483286), (40, 9483287), (41, 9483288), (42, 9483289), (43, 9483290), (44, 9483291), (45, 9483292), (46, 9483293), (47, 9483294), (48, 9483295), (49, 9483296), (50, 9483297), (51, 9483298), (52, 9483299), (53, 9483300), (54, 9483301), (55, 9483302), (56, 9483303), (57, 9483304), (58, 9483305), (59, 9483306), (60, 9483307), (61, 9483308), (62, 9483309), (63, 9483310), (64, 9483311), (65, 9483312), (66, 9483313), (67, 9483314), (68, 9483315), (69, 9483316), (70, 9483317), (71, 9483318), (72, 9483319), (73, 9483320), (74, 9483321), (75, 9483322)]\n",
            "\n",
            "primary alignment\n",
            "\n",
            "mapping quality:\n",
            "27\n",
            "\n",
            "read is mapped to forward strand (5' - 3')\n",
            "\n"
          ]
        }
      ],
      "source": [
        "print(f'read name:\\n{segment.query_name}\\n')\n",
        "print(f'read sequence:\\n{segment.get_forward_sequence()}\\n')\n",
        "print(f'read length:\\n{segment.query_length}\\n')\n",
        "\n",
        "if(segment.is_paired):\n",
        "  print('the read is paired in sequencing\\n')\n",
        "else:\n",
        "  print('the read is not paired in sequencing\\n')\n",
        "\n",
        "if(segment.is_read1):\n",
        "  print('forward read\\n')\n",
        "else:\n",
        "  print('reverse read\\n')\n",
        "\n",
        "if(segment.is_duplicate):\n",
        "  print('read is optical or PCR duplicate\\n')\n",
        "\n",
        "print('--------------------------------------------------------------------------------------')\n",
        "\n",
        "print(f'reference id:\\n{segment.reference_id}\\n')\n",
        "print(f'reference length:\\n{segment.reference_length}\\n')\n",
        "\n",
        "print('--------------------------------------------------------------------------------------')\n",
        "\n",
        "\n",
        "print(f'alignment starts at the position:\\n{segment.reference_start}\\n')\n",
        "print(f'alignment ends on the position:\\n{segment.reference_end}\\n')\n",
        "print(f'aligned into reference sequence:\\n{segment.get_reference_sequence()}\\n')\n",
        "print(f'cigarstring:\\n{segment.cigarstring}\\n')\n",
        "print(f'cigar alignment:\\n{segment.cigartuples}\\n')\n",
        "print(f'aligned pairs (read pos, reference pos):\\n{segment.get_aligned_pairs()}\\n')\n",
        "\n",
        "if segment.is_secondary:\n",
        "  print('secondary alignment\\n')\n",
        "else:\n",
        "  print('primary alignment\\n')\n",
        "\n",
        "print(f'mapping quality:\\n{segment.mapping_quality}\\n')\n",
        "\n",
        "if segment.is_forward:\n",
        "  print('read is mapped to forward strand (5\\' - 3\\')\\n')\n",
        "else:\n",
        "  print('read is not mapped to forward strand (5\\' - 3\\')\\n')\n",
        "\n",
        "bamfile.close()"
      ]
    },
    {
      "cell_type": "code",
      "execution_count": 26,
      "metadata": {
        "id": "ClOX2Bv5TvSU"
      },
      "outputs": [],
      "source": [
        "# Flags of the first 10 reads"
      ]
    },
    {
      "cell_type": "code",
      "execution_count": 27,
      "metadata": {
        "colab": {
          "base_uri": "https://localhost:8080/"
        },
        "id": "-gX2Ac0JXKgU",
        "outputId": "efc0e004-0142-43c2-d291-a22606cbd93e"
      },
      "outputs": [
        {
          "output_type": "stream",
          "name": "stdout",
          "text": [
            "flag:99\n",
            "flag:99\n",
            "flag:163\n",
            "flag:99\n",
            "flag:163\n",
            "flag:99\n",
            "flag:113\n",
            "flag:99\n",
            "flag:163\n",
            "flag:163\n"
          ]
        }
      ],
      "source": [
        "\n",
        "for read in reads:\n",
        "  print(f'flag:{read.flag}')"
      ]
    },
    {
      "cell_type": "code",
      "source": [
        "# Information about first segment's flag"
      ],
      "metadata": {
        "id": "VrEqQK7hbSR3"
      },
      "execution_count": 28,
      "outputs": []
    },
    {
      "cell_type": "code",
      "execution_count": 29,
      "metadata": {
        "colab": {
          "base_uri": "https://localhost:8080/"
        },
        "id": "hhZp1rFPcrJr",
        "outputId": "852889e2-4653-4941-96f2-f89b21339d3a"
      },
      "outputs": [
        {
          "output_type": "stream",
          "name": "stdout",
          "text": [
            "template having multiple segments in sequencing\n",
            "each segment properly aligned according to the aligner\n",
            "SEQ of the next segment in the template being reversed\n",
            "the first segment in the template\n",
            "\n",
            "execution time:\n",
            "0.0002751350402832031\n"
          ]
        }
      ],
      "source": [
        "import time\n",
        "\n",
        "flag = segment.flag\n",
        "\n",
        "flags = {\n",
        "    1 : 'template having multiple segments in sequencing',\n",
        "    2 : 'each segment properly aligned according to the aligner',\n",
        "    4 : 'segment unmapped',\n",
        "    8 : 'next segment in the template unmapped',\n",
        "    16 : 'SEQ being reverse complemented',\n",
        "    32 : 'SEQ of the next segment in the template being reversed',\n",
        "    64 : 'the first segment in the template',\n",
        "    128 : 'the last segment in the template',\n",
        "    256 : 'secondary alignment',\n",
        "    512 : 'not passing quality controls',\n",
        "    1024 : 'PCR or optical duplicate',\n",
        "    2048 : 'supplementary alignment'\n",
        "}\n",
        "\n",
        "start = time.time()\n",
        "\n",
        "for f, message in flags.items():\n",
        "  if flag & f:\n",
        "    print(message)\n",
        "\n",
        "end = time.time()\n",
        "print('\\nexecution time:')\n",
        "print(end - start)"
      ]
    },
    {
      "cell_type": "code",
      "execution_count": 30,
      "metadata": {
        "id": "221hCraUW6CO"
      },
      "outputs": [],
      "source": [
        "# all reads in the file"
      ]
    },
    {
      "cell_type": "code",
      "execution_count": 31,
      "metadata": {
        "colab": {
          "base_uri": "https://localhost:8080/"
        },
        "id": "RGUiYePLpuPt",
        "outputId": "ce108097-9ca7-432f-bc3f-a0af3056b26e"
      },
      "outputs": [
        {
          "output_type": "stream",
          "name": "stdout",
          "text": [
            "total number of reads:\n",
            "1717401\n",
            "\n",
            "number of unmapped reads:\n",
            "12290\n",
            "\n",
            "number of reads with mapping quality 0:\n",
            "79442\n",
            "\n",
            "average quality:\n",
            "55.854162190426116\n",
            "\n",
            "average quality (without 0):\n",
            "58.563122764367115\n",
            "\n"
          ]
        }
      ],
      "source": [
        "bamfile = pysam.AlignmentFile(\"merged-normal.bam\", \"rb\")\n",
        "\n",
        "num_of_unmapped = 0\n",
        "total_num = 0\n",
        "num_mapping_quality_zero = 0\n",
        "average_quality = 0\n",
        "average_quality_no_zero = 0\n",
        "\n",
        "for read in bamfile:\n",
        "  total_num+=1\n",
        "  if read.is_unmapped:  num_of_unmapped+=1\n",
        "  if read.mapping_quality == 0: num_mapping_quality_zero +=1\n",
        "  else: average_quality_no_zero += read.mapping_quality\n",
        "  average_quality += read.mapping_quality\n",
        "\n",
        "\n",
        "average_quality = average_quality / total_num\n",
        "average_quality_no_zero = average_quality_no_zero / (total_num-num_mapping_quality_zero)\n",
        "\n",
        "\n",
        "print(f'total number of reads:\\n{total_num}\\n')\n",
        "print(f'number of unmapped reads:\\n{num_of_unmapped}\\n')\n",
        "print(f'number of reads with mapping quality 0:\\n{num_mapping_quality_zero}\\n')\n",
        "print(f'average quality:\\n{average_quality}\\n')\n",
        "print(f'average quality (without 0):\\n{average_quality_no_zero}\\n')\n",
        "\n",
        "bamfile.close()"
      ]
    },
    {
      "cell_type": "code",
      "source": [],
      "metadata": {
        "id": "IGOBaCUzdFjL"
      },
      "execution_count": null,
      "outputs": []
    }
  ],
  "metadata": {
    "colab": {
      "provenance": []
    },
    "kernelspec": {
      "display_name": "Python 3",
      "name": "python3"
    },
    "language_info": {
      "name": "python"
    }
  },
  "nbformat": 4,
  "nbformat_minor": 0
}