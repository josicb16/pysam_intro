{
  "nbformat": 4,
  "nbformat_minor": 0,
  "metadata": {
    "colab": {
      "provenance": []
    },
    "kernelspec": {
      "name": "python3",
      "display_name": "Python 3"
    },
    "language_info": {
      "name": "python"
    }
  },
  "cells": [
    {
      "cell_type": "code",
      "execution_count": 1,
      "metadata": {
        "colab": {
          "base_uri": "https://localhost:8080/"
        },
        "id": "utXZv8j-pG1f",
        "outputId": "2b0bb5f0-cd1b-4bc5-c63a-4090e5b17348"
      },
      "outputs": [
        {
          "output_type": "stream",
          "name": "stdout",
          "text": [
            "Looking in indexes: https://pypi.org/simple, https://us-python.pkg.dev/colab-wheels/public/simple/\n",
            "Requirement already satisfied: pysam in /usr/local/lib/python3.9/dist-packages (0.20.0)\n"
          ]
        }
      ],
      "source": [
        "pip install pysam"
      ]
    },
    {
      "cell_type": "code",
      "source": [
        "import pysam"
      ],
      "metadata": {
        "id": "1fKtPe5HnvXL"
      },
      "execution_count": 2,
      "outputs": []
    },
    {
      "cell_type": "code",
      "source": [
        "bamfile = pysam.AlignmentFile(\"merged-normal.bam\", \"rb\")"
      ],
      "metadata": {
        "id": "kzUQa-4T3mA9"
      },
      "execution_count": 3,
      "outputs": []
    },
    {
      "cell_type": "code",
      "source": [
        "# First read in the bam file"
      ],
      "metadata": {
        "id": "DH8hGwOD3rCb"
      },
      "execution_count": 4,
      "outputs": []
    },
    {
      "cell_type": "code",
      "source": [
        "n = 0\n",
        "\n",
        "segment = None\n",
        "\n",
        "for read in bamfile:\n",
        "  segment = read\n",
        "  break\n",
        "\n",
        "print(segment)"
      ],
      "metadata": {
        "colab": {
          "base_uri": "https://localhost:8080/"
        },
        "id": "8yraDiki5zH7",
        "outputId": "1eb2e0ed-584a-4813-d602-d0bc1d9e9bf1"
      },
      "execution_count": 5,
      "outputs": [
        {
          "output_type": "stream",
          "name": "stdout",
          "text": [
            "D0MBKACXX120224:2:2206:17237:35667\t99\t#20\t9483248\t27\t76M\t#20\t9483399\t227\tCTTTTCAAACAGTATCTATGCCTGCCAAATGTGAACATATAAAAAAAAACCAGAATGTGCCATTCTGATTTAAACT\tarray('B', [32, 33, 29, 29, 33, 37, 32, 37, 35, 40, 35, 41, 30, 31, 31, 41, 35, 30, 31, 39, 39, 38, 35, 41, 39, 38, 34, 36, 36, 31, 41, 31, 41, 33, 36, 40, 35, 31, 32, 31, 32, 36, 37, 36, 36, 36, 36, 36, 37, 40, 38, 35, 41, 34, 37, 31, 42, 31, 40, 38, 37, 33, 31, 31, 38, 36, 40, 34, 31, 34, 31, 30, 33, 30, 32, 33])\t[('XA', 'GL000217.1,-110755,76M,1;'), ('BD', 'NNNNNNNNNNNNNNNNNNNNNNNNNNNNNNNNNNNNNNNNNNNNNNNNNNNNNNNNNNNNNNNNNNNNNNNNNNNN'), ('MD', '76'), ('RG', '1'), ('BI', 'NNNNNNNNNNNNNNNNNNNNNNNNNNNNNNNNNNNNNNNNNNNNNNNNNNNNNNNNNNNNNNNNNNNNNNNNNNNN'), ('NM', 0), ('MQ', 27), ('AS', 76), ('XS', 71)]\n"
          ]
        }
      ]
    },
    {
      "cell_type": "code",
      "source": [
        "# First read info"
      ],
      "metadata": {
        "id": "gGBtdHYO_Pq6"
      },
      "execution_count": 6,
      "outputs": []
    },
    {
      "cell_type": "code",
      "source": [
        "print('read name: ')\n",
        "print(segment.query_name)\n",
        "print('\\nread sequence:')\n",
        "print(segment.get_forward_sequence())\n",
        "print('\\nread length:')\n",
        "print(segment.query_length)\n",
        "\n",
        "if(segment.is_paired):\n",
        "  print('\\nthe read is paired in sequencing')\n",
        "else:\n",
        "  print('\\nthe read is not paired in sequencing')\n",
        "\n",
        "if(segment.is_read1):\n",
        "  print('\\nforward read')\n",
        "else:\n",
        "  print('\\nreverse read')\n",
        "\n",
        "\n",
        "if(segment.is_duplicate):\n",
        "  print('\\nread is optical or PCR duplicate.')\n",
        "\n",
        "print('--------------------------------------------------------------------------------------')\n",
        "\n",
        "print('\\nreference id: ')\n",
        "print(segment.reference_id)\n",
        "\n",
        "\n",
        "print('\\nreference length:')\n",
        "print(segment.reference_length)\n",
        "\n",
        "print('--------------------------------------------------------------------------------------')\n",
        "\n",
        "\n",
        "print('\\nalignment starts at the position:')\n",
        "print(segment.reference_start)\n",
        "\n",
        "print('\\nalignment ends on the position:')\n",
        "print(segment.reference_end)\n",
        "\n",
        "print('\\naligned into reference sequence:')\n",
        "print(segment.get_reference_sequence())\n",
        "\n",
        "print('\\ncigarstring:')\n",
        "print(segment.cigarstring)\n",
        "\n",
        "print('\\ncigar alignment:')\n",
        "print(segment.cigartuples)\n",
        "\n",
        "print('\\naligned pairs (read pos, reference pos):')\n",
        "print(segment.get_aligned_pairs())\n",
        "\n",
        "if segment.is_secondary:\n",
        "  print('\\nsecondary alignment')\n",
        "else:\n",
        "  print('\\nprimary alignment')\n",
        "\n",
        "print('\\nmapping quality:')\n",
        "print(segment.mapping_quality)\n",
        "\n",
        "if segment.is_forward:\n",
        "  print('\\nread is mapped to forward strand (5\\' - 3\\')')\n",
        "else:\n",
        "  print('\\nread is not mapped to forward strand (5\\' - 3\\')')\n"
      ],
      "metadata": {
        "colab": {
          "base_uri": "https://localhost:8080/"
        },
        "id": "tWncAZa9HeFf",
        "outputId": "6a4a218f-3357-46b8-f26e-aeaa7014eb43"
      },
      "execution_count": 7,
      "outputs": [
        {
          "output_type": "stream",
          "name": "stdout",
          "text": [
            "read name: \n",
            "D0MBKACXX120224:2:2206:17237:35667\n",
            "\n",
            "read sequence:\n",
            "CTTTTCAAACAGTATCTATGCCTGCCAAATGTGAACATATAAAAAAAAACCAGAATGTGCCATTCTGATTTAAACT\n",
            "\n",
            "read length:\n",
            "76\n",
            "\n",
            "the read is paired in sequencing\n",
            "\n",
            "forward read\n",
            "--------------------------------------------------------------------------------------\n",
            "\n",
            "reference id: \n",
            "20\n",
            "\n",
            "reference length:\n",
            "76\n",
            "--------------------------------------------------------------------------------------\n",
            "\n",
            "alignment starts at the position:\n",
            "9483247\n",
            "\n",
            "alignment ends on the position:\n",
            "9483323\n",
            "\n",
            "aligned into reference sequence:\n",
            "CTTTTCAAACAGTATCTATGCCTGCCAAATGTGAACATATAAAAAAAAACCAGAATGTGCCATTCTGATTTAAACT\n",
            "\n",
            "cigarstring:\n",
            "76M\n",
            "\n",
            "cigar alignment:\n",
            "[(0, 76)]\n",
            "\n",
            "aligned pairs (read pos, reference pos):\n",
            "[(0, 9483247), (1, 9483248), (2, 9483249), (3, 9483250), (4, 9483251), (5, 9483252), (6, 9483253), (7, 9483254), (8, 9483255), (9, 9483256), (10, 9483257), (11, 9483258), (12, 9483259), (13, 9483260), (14, 9483261), (15, 9483262), (16, 9483263), (17, 9483264), (18, 9483265), (19, 9483266), (20, 9483267), (21, 9483268), (22, 9483269), (23, 9483270), (24, 9483271), (25, 9483272), (26, 9483273), (27, 9483274), (28, 9483275), (29, 9483276), (30, 9483277), (31, 9483278), (32, 9483279), (33, 9483280), (34, 9483281), (35, 9483282), (36, 9483283), (37, 9483284), (38, 9483285), (39, 9483286), (40, 9483287), (41, 9483288), (42, 9483289), (43, 9483290), (44, 9483291), (45, 9483292), (46, 9483293), (47, 9483294), (48, 9483295), (49, 9483296), (50, 9483297), (51, 9483298), (52, 9483299), (53, 9483300), (54, 9483301), (55, 9483302), (56, 9483303), (57, 9483304), (58, 9483305), (59, 9483306), (60, 9483307), (61, 9483308), (62, 9483309), (63, 9483310), (64, 9483311), (65, 9483312), (66, 9483313), (67, 9483314), (68, 9483315), (69, 9483316), (70, 9483317), (71, 9483318), (72, 9483319), (73, 9483320), (74, 9483321), (75, 9483322)]\n",
            "\n",
            "primary alignment\n",
            "\n",
            "mapping quality:\n",
            "27\n",
            "\n",
            "read is mapped to forward strand (5' - 3')\n"
          ]
        }
      ]
    },
    {
      "cell_type": "code",
      "source": [
        "# Flag"
      ],
      "metadata": {
        "id": "ClOX2Bv5TvSU"
      },
      "execution_count": 8,
      "outputs": []
    },
    {
      "cell_type": "code",
      "source": [
        "flag = segment.flag\n",
        "\n",
        "print('flag:')\n",
        "print(flag)"
      ],
      "metadata": {
        "colab": {
          "base_uri": "https://localhost:8080/"
        },
        "id": "-gX2Ac0JXKgU",
        "outputId": "79354b48-5f05-4394-a629-b96997b0a955"
      },
      "execution_count": 9,
      "outputs": [
        {
          "output_type": "stream",
          "name": "stdout",
          "text": [
            "flag:\n",
            "99\n"
          ]
        }
      ]
    },
    {
      "cell_type": "code",
      "source": [
        "\n",
        "while flag >0:\n",
        "  if flag - 2048 >= 0:\n",
        "      print('supplementary alignment')\n",
        "      flag -= 2048\n",
        "      continue\n",
        "  if flag - 1024 >= 0:\n",
        "      print('PCR or optical duplicate')\n",
        "      flag -= 1024\n",
        "      continue\n",
        "  if flag - 512 >= 0:\n",
        "      print('not passing quality controls')\n",
        "      flag -= 512\n",
        "      continue\n",
        "  if flag - 256 >= 0:\n",
        "      print('secondary alignment')\n",
        "      flag -= 256\n",
        "      continue\n",
        "  if flag - 128 >= 0:\n",
        "      print('the last segment in the template')\n",
        "      flag -= 128\n",
        "      continue\n",
        "  if flag - 64 >= 0:\n",
        "      print('the first segment in the template')\n",
        "      flag -= 64\n",
        "      continue\n",
        "  if flag - 32 >= 0:\n",
        "      print('SEQ of the next segment in the template being reversed')\n",
        "      flag -= 32\n",
        "      continue\n",
        "  if flag - 16 >= 0:\n",
        "      print('SEQ being reverse complemented')\n",
        "      flag -= 16\n",
        "      continue\n",
        "  if flag - 8 >= 0:\n",
        "      print('next segment in the template unmapped')\n",
        "      flag -= 8\n",
        "      continue\n",
        "  if flag - 4 >= 0:\n",
        "      print('segment unmapped')\n",
        "      flag -= 4\n",
        "      continue\n",
        "  if flag - 2 >= 0:\n",
        "      print('each segment properly aligned according to the aligner')\n",
        "      flag -= 2\n",
        "      continue\n",
        "  if flag - 1 >= 0:\n",
        "      print('template having multiple segments in sequencing')\n",
        "      flag -= 1"
      ],
      "metadata": {
        "colab": {
          "base_uri": "https://localhost:8080/"
        },
        "id": "hhZp1rFPcrJr",
        "outputId": "15940007-0a95-4c91-e69d-876251085775"
      },
      "execution_count": 10,
      "outputs": [
        {
          "output_type": "stream",
          "name": "stdout",
          "text": [
            "the first segment in the template\n",
            "SEQ of the next segment in the template being reversed\n",
            "each segment properly aligned according to the aligner\n",
            "template having multiple segments in sequencing\n"
          ]
        }
      ]
    },
    {
      "cell_type": "code",
      "source": [
        "bamfile.close()\n",
        "bamfile = pysam.AlignmentFile(\"merged-normal.bam\", \"rb\")\n",
        "\n",
        "num_of_reads = 10\n",
        "i = 0\n",
        "\n",
        "for read in bamfile:\n",
        "  i+=1\n",
        "  print(read.flag)\n",
        "  if i>=10:\n",
        "    break"
      ],
      "metadata": {
        "colab": {
          "base_uri": "https://localhost:8080/"
        },
        "id": "SHOsMLuUWelS",
        "outputId": "0b16a028-7b0d-4117-b49e-c91a91ebe588"
      },
      "execution_count": 18,
      "outputs": [
        {
          "output_type": "stream",
          "name": "stdout",
          "text": [
            "99\n",
            "99\n",
            "163\n",
            "99\n",
            "163\n",
            "99\n",
            "113\n",
            "99\n",
            "163\n",
            "163\n"
          ]
        }
      ]
    },
    {
      "cell_type": "code",
      "source": [
        "# all reads in the file"
      ],
      "metadata": {
        "id": "221hCraUW6CO"
      },
      "execution_count": 12,
      "outputs": []
    },
    {
      "cell_type": "code",
      "source": [
        "bamfile.close()\n",
        "bamfile = pysam.AlignmentFile(\"merged-normal.bam\", \"rb\")\n",
        "\n",
        "num_of_unmapped = 0\n",
        "\n",
        "for read in bamfile:\n",
        "  if read.is_unmapped:\n",
        "    num_of_unmapped+=1\n",
        "\n",
        "print('number of unmapped reads:')\n",
        "print(num_of_unmapped)"
      ],
      "metadata": {
        "colab": {
          "base_uri": "https://localhost:8080/"
        },
        "id": "RGUiYePLpuPt",
        "outputId": "a736d0cd-d525-44b2-8f14-de2c0ef58930"
      },
      "execution_count": 19,
      "outputs": [
        {
          "output_type": "stream",
          "name": "stdout",
          "text": [
            "12290\n"
          ]
        }
      ]
    },
    {
      "cell_type": "code",
      "source": [
        "bamfile.close()\n",
        "bamfile = pysam.AlignmentFile(\"merged-normal.bam\", \"rb\")\n",
        "\n",
        "total_num_of_reads = 0\n",
        "\n",
        "for read in bamfile:\n",
        "  total_num_of_reads +=1\n",
        "\n",
        "print('total number of reads in file:')\n",
        "print(total_num_of_reads)"
      ],
      "metadata": {
        "colab": {
          "base_uri": "https://localhost:8080/"
        },
        "id": "D2qzenbYqMgz",
        "outputId": "a8d5e83a-5b34-48b7-99df-0fe3c8884203"
      },
      "execution_count": 20,
      "outputs": [
        {
          "output_type": "stream",
          "name": "stdout",
          "text": [
            "1717401\n"
          ]
        }
      ]
    },
    {
      "cell_type": "code",
      "source": [
        "bamfile.close()\n",
        "bamfile = pysam.AlignmentFile(\"merged-normal.bam\", \"rb\")\n",
        "\n",
        "num = 0\n",
        "\n",
        "for read in bamfile:\n",
        "  if read.mapping_quality == 0:\n",
        "    num +=1\n",
        "\n",
        "print('number of reads with mapping quality 0:')\n",
        "print(num)"
      ],
      "metadata": {
        "colab": {
          "base_uri": "https://localhost:8080/"
        },
        "id": "l8b_yLTWsE_-",
        "outputId": "fc633707-45e6-447b-c0c3-a6fc4a8e18b6"
      },
      "execution_count": 21,
      "outputs": [
        {
          "output_type": "stream",
          "name": "stdout",
          "text": [
            "number of reads with mapping quality 0:\n",
            "79442\n"
          ]
        }
      ]
    },
    {
      "cell_type": "code",
      "source": [
        "bamfile.close()\n",
        "bamfile = pysam.AlignmentFile(\"merged-normal.bam\", \"rb\")\n",
        "\n",
        "sum_of_qualities = 0\n",
        "\n",
        "for read in bamfile:\n",
        "  sum_of_qualities += read.mapping_quality\n",
        "\n",
        "average_quality = sum_of_qualities / total_num_of_reads\n",
        "\n",
        "print(average_quality)"
      ],
      "metadata": {
        "colab": {
          "base_uri": "https://localhost:8080/"
        },
        "id": "Ks4GmAwxs4RS",
        "outputId": "09cdc225-d03c-465e-e13c-bd09dc6a259e"
      },
      "execution_count": 24,
      "outputs": [
        {
          "output_type": "stream",
          "name": "stdout",
          "text": [
            "55.854162190426116\n"
          ]
        }
      ]
    },
    {
      "cell_type": "code",
      "source": [
        "bamfile.close()\n",
        "bamfile = pysam.AlignmentFile(\"merged-normal.bam\", \"rb\")\n",
        "\n",
        "sum_of_qualities = 0\n",
        "\n",
        "for read in bamfile:\n",
        "  if read.mapping_quality == 0:\n",
        "    continue\n",
        "  sum_of_qualities += read.mapping_quality\n",
        "\n",
        "average_quality = sum_of_qualities / (total_num_of_reads-num)\n",
        "\n",
        "print(average_quality)"
      ],
      "metadata": {
        "colab": {
          "base_uri": "https://localhost:8080/"
        },
        "id": "l-PZT0v1tOLd",
        "outputId": "4ae650d3-3c47-4ddd-ea07-cc555c20b386"
      },
      "execution_count": 25,
      "outputs": [
        {
          "output_type": "stream",
          "name": "stdout",
          "text": [
            "58.563122764367115\n"
          ]
        }
      ]
    },
    {
      "cell_type": "code",
      "source": [],
      "metadata": {
        "id": "fr9iWVvSuLbn"
      },
      "execution_count": null,
      "outputs": []
    }
  ]
}