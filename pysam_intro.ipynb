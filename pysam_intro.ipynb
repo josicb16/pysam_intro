{
  "cells": [
    {
      "cell_type": "code",
      "execution_count": 1,
      "metadata": {
        "colab": {
          "base_uri": "https://localhost:8080/"
        },
        "id": "utXZv8j-pG1f",
        "outputId": "46a7556a-d2c3-402a-edd0-dfa4135d5390"
      },
      "outputs": [
        {
          "output_type": "stream",
          "name": "stdout",
          "text": [
            "Looking in indexes: https://pypi.org/simple, https://us-python.pkg.dev/colab-wheels/public/simple/\n",
            "Requirement already satisfied: pysam in /usr/local/lib/python3.9/dist-packages (0.20.0)\n"
          ]
        }
      ],
      "source": [
        "pip install pysam"
      ]
    },
    {
      "cell_type": "code",
      "execution_count": 2,
      "metadata": {
        "id": "1fKtPe5HnvXL"
      },
      "outputs": [],
      "source": [
        "import pysam"
      ]
    },
    {
      "cell_type": "code",
      "execution_count": 3,
      "metadata": {
        "id": "kzUQa-4T3mA9"
      },
      "outputs": [],
      "source": [
        "bamfile = pysam.AlignmentFile(\"merged-normal.bam\", \"rb\")"
      ]
    },
    {
      "cell_type": "markdown",
      "source": [
        "1. Loading the first 10 reads in the file and printing the first."
      ],
      "metadata": {
        "id": "40bzIN4tBGxE"
      }
    },
    {
      "cell_type": "code",
      "execution_count": 4,
      "metadata": {
        "colab": {
          "base_uri": "https://localhost:8080/"
        },
        "id": "8yraDiki5zH7",
        "outputId": "f811d5be-caeb-4f01-8f7d-db08ed5fbfc8"
      },
      "outputs": [
        {
          "output_type": "stream",
          "name": "stdout",
          "text": [
            "D0MBKACXX120224:2:2206:17237:35667\t99\t#20\t9483248\t27\t76M\t#20\t9483399\t227\tCTTTTCAAACAGTATCTATGCCTGCCAAATGTGAACATATAAAAAAAAACCAGAATGTGCCATTCTGATTTAAACT\tarray('B', [32, 33, 29, 29, 33, 37, 32, 37, 35, 40, 35, 41, 30, 31, 31, 41, 35, 30, 31, 39, 39, 38, 35, 41, 39, 38, 34, 36, 36, 31, 41, 31, 41, 33, 36, 40, 35, 31, 32, 31, 32, 36, 37, 36, 36, 36, 36, 36, 37, 40, 38, 35, 41, 34, 37, 31, 42, 31, 40, 38, 37, 33, 31, 31, 38, 36, 40, 34, 31, 34, 31, 30, 33, 30, 32, 33])\t[('XA', 'GL000217.1,-110755,76M,1;'), ('BD', 'NNNNNNNNNNNNNNNNNNNNNNNNNNNNNNNNNNNNNNNNNNNNNNNNNNNNNNNNNNNNNNNNNNNNNNNNNNNN'), ('MD', '76'), ('RG', '1'), ('BI', 'NNNNNNNNNNNNNNNNNNNNNNNNNNNNNNNNNNNNNNNNNNNNNNNNNNNNNNNNNNNNNNNNNNNNNNNNNNNN'), ('NM', 0), ('MQ', 27), ('AS', 76), ('XS', 71)]\n"
          ]
        }
      ],
      "source": [
        "reads = []\n",
        "i = 10\n",
        "\n",
        "for read in bamfile:\n",
        "  if i==0: break\n",
        "  reads.append(read)\n",
        "  i-=1\n",
        "\n",
        "segment = reads[0]\n",
        "\n",
        "print(segment)"
      ]
    },
    {
      "cell_type": "markdown",
      "source": [
        "2) Printing some properties of the first read of the file."
      ],
      "metadata": {
        "id": "QwK9yqsKD-ut"
      }
    },
    {
      "cell_type": "code",
      "execution_count": 5,
      "metadata": {
        "colab": {
          "base_uri": "https://localhost:8080/"
        },
        "id": "tWncAZa9HeFf",
        "outputId": "b6327620-d1b2-4c94-b679-98269d2fae2a"
      },
      "outputs": [
        {
          "output_type": "stream",
          "name": "stdout",
          "text": [
            "read name:\n",
            "D0MBKACXX120224:2:2206:17237:35667\n",
            "\n",
            "read sequence:\n",
            "CTTTTCAAACAGTATCTATGCCTGCCAAATGTGAACATATAAAAAAAAACCAGAATGTGCCATTCTGATTTAAACT\n",
            "\n",
            "read length:\n",
            "76\n",
            "\n",
            "the read is paired in sequencing\n",
            "\n",
            "forward read\n",
            "\n",
            "--------------------------------------------------------------------------------------\n",
            "reference id:\n",
            "20\n",
            "\n",
            "reference length:\n",
            "76\n",
            "\n",
            "--------------------------------------------------------------------------------------\n",
            "alignment starts at the position:\n",
            "9483247\n",
            "\n",
            "alignment ends on the position:\n",
            "9483323\n",
            "\n",
            "aligned into reference sequence:\n",
            "CTTTTCAAACAGTATCTATGCCTGCCAAATGTGAACATATAAAAAAAAACCAGAATGTGCCATTCTGATTTAAACT\n",
            "\n",
            "cigarstring:\n",
            "76M\n",
            "\n",
            "cigar alignment:\n",
            "[(0, 76)]\n",
            "\n",
            "aligned pairs (read pos, reference pos):\n",
            "[(0, 9483247), (1, 9483248), (2, 9483249), (3, 9483250), (4, 9483251), (5, 9483252), (6, 9483253), (7, 9483254), (8, 9483255), (9, 9483256), (10, 9483257), (11, 9483258), (12, 9483259), (13, 9483260), (14, 9483261), (15, 9483262), (16, 9483263), (17, 9483264), (18, 9483265), (19, 9483266), (20, 9483267), (21, 9483268), (22, 9483269), (23, 9483270), (24, 9483271), (25, 9483272), (26, 9483273), (27, 9483274), (28, 9483275), (29, 9483276), (30, 9483277), (31, 9483278), (32, 9483279), (33, 9483280), (34, 9483281), (35, 9483282), (36, 9483283), (37, 9483284), (38, 9483285), (39, 9483286), (40, 9483287), (41, 9483288), (42, 9483289), (43, 9483290), (44, 9483291), (45, 9483292), (46, 9483293), (47, 9483294), (48, 9483295), (49, 9483296), (50, 9483297), (51, 9483298), (52, 9483299), (53, 9483300), (54, 9483301), (55, 9483302), (56, 9483303), (57, 9483304), (58, 9483305), (59, 9483306), (60, 9483307), (61, 9483308), (62, 9483309), (63, 9483310), (64, 9483311), (65, 9483312), (66, 9483313), (67, 9483314), (68, 9483315), (69, 9483316), (70, 9483317), (71, 9483318), (72, 9483319), (73, 9483320), (74, 9483321), (75, 9483322)]\n",
            "\n",
            "primary alignment\n",
            "\n",
            "mapping quality:\n",
            "27\n",
            "\n",
            "read is mapped to forward strand (5' - 3')\n",
            "\n"
          ]
        }
      ],
      "source": [
        "print(f'read name:\\n{segment.query_name}\\n')\n",
        "print(f'read sequence:\\n{segment.get_forward_sequence()}\\n')\n",
        "print(f'read length:\\n{segment.query_length}\\n')\n",
        "\n",
        "if(segment.is_paired):\n",
        "  print('the read is paired in sequencing\\n')\n",
        "else:\n",
        "  print('the read is not paired in sequencing\\n')\n",
        "\n",
        "if(segment.is_read1):\n",
        "  print('forward read\\n')\n",
        "else:\n",
        "  print('reverse read\\n')\n",
        "\n",
        "if(segment.is_duplicate):\n",
        "  print('read is optical or PCR duplicate\\n')\n",
        "\n",
        "print('--------------------------------------------------------------------------------------')\n",
        "\n",
        "print(f'reference id:\\n{segment.reference_id}\\n')\n",
        "print(f'reference length:\\n{segment.reference_length}\\n')\n",
        "\n",
        "print('--------------------------------------------------------------------------------------')\n",
        "\n",
        "\n",
        "print(f'alignment starts at the position:\\n{segment.reference_start}\\n')\n",
        "print(f'alignment ends on the position:\\n{segment.reference_end}\\n')\n",
        "print(f'aligned into reference sequence:\\n{segment.get_reference_sequence()}\\n')\n",
        "print(f'cigarstring:\\n{segment.cigarstring}\\n')\n",
        "print(f'cigar alignment:\\n{segment.cigartuples}\\n')\n",
        "print(f'aligned pairs (read pos, reference pos):\\n{segment.get_aligned_pairs()}\\n')\n",
        "\n",
        "if segment.is_secondary:\n",
        "  print('secondary alignment\\n')\n",
        "else:\n",
        "  print('primary alignment\\n')\n",
        "\n",
        "print(f'mapping quality:\\n{segment.mapping_quality}\\n')\n",
        "\n",
        "if segment.is_forward:\n",
        "  print('read is mapped to forward strand (5\\' - 3\\')\\n')\n",
        "else:\n",
        "  print('read is not mapped to forward strand (5\\' - 3\\')\\n')\n",
        "\n",
        "bamfile.close()"
      ]
    },
    {
      "cell_type": "markdown",
      "source": [
        "3) Printing flag values of the first 10 reads."
      ],
      "metadata": {
        "id": "xyyH6-xsHN13"
      }
    },
    {
      "cell_type": "code",
      "execution_count": 6,
      "metadata": {
        "colab": {
          "base_uri": "https://localhost:8080/"
        },
        "id": "-gX2Ac0JXKgU",
        "outputId": "c32a2fd2-f5bc-4ae7-a4d7-469d8d7f9717"
      },
      "outputs": [
        {
          "output_type": "stream",
          "name": "stdout",
          "text": [
            "99\n",
            "99\n",
            "163\n",
            "99\n",
            "163\n",
            "99\n",
            "113\n",
            "99\n",
            "163\n",
            "163\n"
          ]
        }
      ],
      "source": [
        "for read in reads:\n",
        "  print(f'{read.flag}')"
      ]
    },
    {
      "cell_type": "markdown",
      "source": [
        "4) Printing properties of the first read based on its flag value"
      ],
      "metadata": {
        "id": "YZVwVMT4I5vf"
      }
    },
    {
      "cell_type": "code",
      "execution_count": 7,
      "metadata": {
        "colab": {
          "base_uri": "https://localhost:8080/"
        },
        "id": "hhZp1rFPcrJr",
        "outputId": "20c74a7a-eba2-41ff-9ead-d3d65ef85d9b"
      },
      "outputs": [
        {
          "output_type": "stream",
          "name": "stdout",
          "text": [
            "template having multiple segments in sequencing\n",
            "each segment properly aligned according to the aligner\n",
            "SEQ of the next segment in the template being reversed\n",
            "the first segment in the template\n"
          ]
        }
      ],
      "source": [
        "flags = {\n",
        "    1 : 'template having multiple segments in sequencing',\n",
        "    2 : 'each segment properly aligned according to the aligner',\n",
        "    4 : 'segment unmapped',\n",
        "    8 : 'next segment in the template unmapped',\n",
        "    16 : 'SEQ being reverse complemented',\n",
        "    32 : 'SEQ of the next segment in the template being reversed',\n",
        "    64 : 'the first segment in the template',\n",
        "    128 : 'the last segment in the template',\n",
        "    256 : 'secondary alignment',\n",
        "    512 : 'not passing quality controls',\n",
        "    1024 : 'PCR or optical duplicate',\n",
        "    2048 : 'supplementary alignment'\n",
        "}\n",
        "\n",
        "\n",
        "for f, message in flags.items():\n",
        "  if segment.flag & f:\n",
        "    print(message)\n"
      ]
    },
    {
      "cell_type": "markdown",
      "source": [
        "5) Counting reads"
      ],
      "metadata": {
        "id": "PCNISVUKKRU8"
      }
    },
    {
      "cell_type": "code",
      "execution_count": 8,
      "metadata": {
        "colab": {
          "base_uri": "https://localhost:8080/"
        },
        "id": "RGUiYePLpuPt",
        "outputId": "ccee4f86-b055-450b-df38-a2cdb10016b4"
      },
      "outputs": [
        {
          "output_type": "stream",
          "name": "stdout",
          "text": [
            "total number of reads:\n",
            "1717401\n",
            "\n",
            "number of unmapped reads:\n",
            "12290\n",
            "\n",
            "number of reads with mapping quality 0:\n",
            "79442\n",
            "\n",
            "average quality:\n",
            "55.854162190426116\n",
            "\n",
            "average quality (without 0):\n",
            "58.563122764367115\n",
            "\n"
          ]
        }
      ],
      "source": [
        "bamfile = pysam.AlignmentFile(\"merged-normal.bam\", \"rb\")\n",
        "\n",
        "num_of_unmapped = 0\n",
        "total_num = 0\n",
        "num_mapping_quality_zero = 0\n",
        "average_quality = 0\n",
        "average_quality_no_zero = 0\n",
        "\n",
        "for read in bamfile:\n",
        "  total_num+=1\n",
        "  average_quality += read.mapping_quality\n",
        "\n",
        "  if read.is_unmapped:  \n",
        "    num_of_unmapped+=1\n",
        "  if read.mapping_quality == 0: \n",
        "    num_mapping_quality_zero +=1\n",
        "  else: \n",
        "    average_quality_no_zero += read.mapping_quality\n",
        "\n",
        "\n",
        "average_quality = average_quality / total_num\n",
        "average_quality_no_zero = average_quality_no_zero / (total_num-num_mapping_quality_zero)\n",
        "\n",
        "\n",
        "print(f'total number of reads:\\n{total_num}\\n')\n",
        "print(f'number of unmapped reads:\\n{num_of_unmapped}\\n')\n",
        "print(f'number of reads with mapping quality 0:\\n{num_mapping_quality_zero}\\n')\n",
        "print(f'average quality:\\n{average_quality}\\n')\n",
        "print(f'average quality (without 0):\\n{average_quality_no_zero}\\n')\n",
        "\n",
        "bamfile.close()"
      ]
    }
  ],
  "metadata": {
    "colab": {
      "provenance": []
    },
    "kernelspec": {
      "display_name": "Python 3",
      "name": "python3"
    },
    "language_info": {
      "name": "python"
    }
  },
  "nbformat": 4,
  "nbformat_minor": 0
}