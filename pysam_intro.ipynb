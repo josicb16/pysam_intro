{
  "cells": [
    {
      "cell_type": "code",
      "execution_count": 1,
      "metadata": {
        "colab": {
          "base_uri": "https://localhost:8080/"
        },
        "id": "utXZv8j-pG1f",
        "outputId": "d277e9f6-12bb-4f41-d3d9-f356e3128697"
      },
      "outputs": [
        {
          "output_type": "stream",
          "name": "stdout",
          "text": [
            "Looking in indexes: https://pypi.org/simple, https://us-python.pkg.dev/colab-wheels/public/simple/\n",
            "Requirement already satisfied: pysam in /usr/local/lib/python3.9/dist-packages (0.20.0)\n"
          ]
        }
      ],
      "source": [
        "pip install pysam"
      ]
    },
    {
      "cell_type": "code",
      "execution_count": 2,
      "metadata": {
        "id": "1fKtPe5HnvXL"
      },
      "outputs": [],
      "source": [
        "import pysam"
      ]
    },
    {
      "cell_type": "code",
      "execution_count": 3,
      "metadata": {
        "id": "kzUQa-4T3mA9"
      },
      "outputs": [],
      "source": [
        "bamfile = pysam.AlignmentFile(\"merged-normal.bam\", \"rb\")"
      ]
    },
    {
      "cell_type": "code",
      "execution_count": 4,
      "metadata": {
        "id": "DH8hGwOD3rCb"
      },
      "outputs": [],
      "source": [
        "# First read in the bam file"
      ]
    },
    {
      "cell_type": "code",
      "execution_count": 5,
      "metadata": {
        "colab": {
          "base_uri": "https://localhost:8080/"
        },
        "id": "8yraDiki5zH7",
        "outputId": "24eb128c-90f4-4ce5-a93b-ac8e0916f111"
      },
      "outputs": [
        {
          "output_type": "stream",
          "name": "stdout",
          "text": [
            "D0MBKACXX120224:2:2206:17237:35667\t99\t#20\t9483248\t27\t76M\t#20\t9483399\t227\tCTTTTCAAACAGTATCTATGCCTGCCAAATGTGAACATATAAAAAAAAACCAGAATGTGCCATTCTGATTTAAACT\tarray('B', [32, 33, 29, 29, 33, 37, 32, 37, 35, 40, 35, 41, 30, 31, 31, 41, 35, 30, 31, 39, 39, 38, 35, 41, 39, 38, 34, 36, 36, 31, 41, 31, 41, 33, 36, 40, 35, 31, 32, 31, 32, 36, 37, 36, 36, 36, 36, 36, 37, 40, 38, 35, 41, 34, 37, 31, 42, 31, 40, 38, 37, 33, 31, 31, 38, 36, 40, 34, 31, 34, 31, 30, 33, 30, 32, 33])\t[('XA', 'GL000217.1,-110755,76M,1;'), ('BD', 'NNNNNNNNNNNNNNNNNNNNNNNNNNNNNNNNNNNNNNNNNNNNNNNNNNNNNNNNNNNNNNNNNNNNNNNNNNNN'), ('MD', '76'), ('RG', '1'), ('BI', 'NNNNNNNNNNNNNNNNNNNNNNNNNNNNNNNNNNNNNNNNNNNNNNNNNNNNNNNNNNNNNNNNNNNNNNNNNNNN'), ('NM', 0), ('MQ', 27), ('AS', 76), ('XS', 71)]\n"
          ]
        }
      ],
      "source": [
        "n = 0\n",
        "\n",
        "segment = None\n",
        "\n",
        "for read in bamfile:\n",
        "  segment = read\n",
        "  break\n",
        "\n",
        "print(segment)"
      ]
    },
    {
      "cell_type": "code",
      "execution_count": 6,
      "metadata": {
        "id": "gGBtdHYO_Pq6"
      },
      "outputs": [],
      "source": [
        "# First read info"
      ]
    },
    {
      "cell_type": "code",
      "execution_count": 7,
      "metadata": {
        "colab": {
          "base_uri": "https://localhost:8080/"
        },
        "id": "tWncAZa9HeFf",
        "outputId": "218ebd82-d10e-4830-cd3a-a80ed60855bc"
      },
      "outputs": [
        {
          "output_type": "stream",
          "name": "stdout",
          "text": [
            "read name: \n",
            "D0MBKACXX120224:2:2206:17237:35667\n",
            "\n",
            "read sequence:\n",
            "CTTTTCAAACAGTATCTATGCCTGCCAAATGTGAACATATAAAAAAAAACCAGAATGTGCCATTCTGATTTAAACT\n",
            "\n",
            "read length:\n",
            "76\n",
            "\n",
            "the read is paired in sequencing\n",
            "\n",
            "forward read\n",
            "--------------------------------------------------------------------------------------\n",
            "\n",
            "reference id: \n",
            "20\n",
            "\n",
            "reference length:\n",
            "76\n",
            "--------------------------------------------------------------------------------------\n",
            "\n",
            "alignment starts at the position:\n",
            "9483247\n",
            "\n",
            "alignment ends on the position:\n",
            "9483323\n",
            "\n",
            "aligned into reference sequence:\n",
            "CTTTTCAAACAGTATCTATGCCTGCCAAATGTGAACATATAAAAAAAAACCAGAATGTGCCATTCTGATTTAAACT\n",
            "\n",
            "cigarstring:\n",
            "76M\n",
            "\n",
            "cigar alignment:\n",
            "[(0, 76)]\n",
            "\n",
            "aligned pairs (read pos, reference pos):\n",
            "[(0, 9483247), (1, 9483248), (2, 9483249), (3, 9483250), (4, 9483251), (5, 9483252), (6, 9483253), (7, 9483254), (8, 9483255), (9, 9483256), (10, 9483257), (11, 9483258), (12, 9483259), (13, 9483260), (14, 9483261), (15, 9483262), (16, 9483263), (17, 9483264), (18, 9483265), (19, 9483266), (20, 9483267), (21, 9483268), (22, 9483269), (23, 9483270), (24, 9483271), (25, 9483272), (26, 9483273), (27, 9483274), (28, 9483275), (29, 9483276), (30, 9483277), (31, 9483278), (32, 9483279), (33, 9483280), (34, 9483281), (35, 9483282), (36, 9483283), (37, 9483284), (38, 9483285), (39, 9483286), (40, 9483287), (41, 9483288), (42, 9483289), (43, 9483290), (44, 9483291), (45, 9483292), (46, 9483293), (47, 9483294), (48, 9483295), (49, 9483296), (50, 9483297), (51, 9483298), (52, 9483299), (53, 9483300), (54, 9483301), (55, 9483302), (56, 9483303), (57, 9483304), (58, 9483305), (59, 9483306), (60, 9483307), (61, 9483308), (62, 9483309), (63, 9483310), (64, 9483311), (65, 9483312), (66, 9483313), (67, 9483314), (68, 9483315), (69, 9483316), (70, 9483317), (71, 9483318), (72, 9483319), (73, 9483320), (74, 9483321), (75, 9483322)]\n",
            "\n",
            "primary alignment\n",
            "\n",
            "mapping quality:\n",
            "27\n",
            "\n",
            "read is mapped to forward strand (5' - 3')\n"
          ]
        }
      ],
      "source": [
        "print('read name: ')\n",
        "print(segment.query_name)\n",
        "print('\\nread sequence:')\n",
        "print(segment.get_forward_sequence())\n",
        "print('\\nread length:')\n",
        "print(segment.query_length)\n",
        "\n",
        "if(segment.is_paired):\n",
        "  print('\\nthe read is paired in sequencing')\n",
        "else:\n",
        "  print('\\nthe read is not paired in sequencing')\n",
        "\n",
        "if(segment.is_read1):\n",
        "  print('\\nforward read')\n",
        "else:\n",
        "  print('\\nreverse read')\n",
        "\n",
        "\n",
        "if(segment.is_duplicate):\n",
        "  print('\\nread is optical or PCR duplicate.')\n",
        "\n",
        "print('--------------------------------------------------------------------------------------')\n",
        "\n",
        "print('\\nreference id: ')\n",
        "print(segment.reference_id)\n",
        "\n",
        "\n",
        "print('\\nreference length:')\n",
        "print(segment.reference_length)\n",
        "\n",
        "print('--------------------------------------------------------------------------------------')\n",
        "\n",
        "\n",
        "print('\\nalignment starts at the position:')\n",
        "print(segment.reference_start)\n",
        "\n",
        "print('\\nalignment ends on the position:')\n",
        "print(segment.reference_end)\n",
        "\n",
        "print('\\naligned into reference sequence:')\n",
        "print(segment.get_reference_sequence())\n",
        "\n",
        "print('\\ncigarstring:')\n",
        "print(segment.cigarstring)\n",
        "\n",
        "print('\\ncigar alignment:')\n",
        "print(segment.cigartuples)\n",
        "\n",
        "print('\\naligned pairs (read pos, reference pos):')\n",
        "print(segment.get_aligned_pairs())\n",
        "\n",
        "if segment.is_secondary:\n",
        "  print('\\nsecondary alignment')\n",
        "else:\n",
        "  print('\\nprimary alignment')\n",
        "\n",
        "print('\\nmapping quality:')\n",
        "print(segment.mapping_quality)\n",
        "\n",
        "if segment.is_forward:\n",
        "  print('\\nread is mapped to forward strand (5\\' - 3\\')')\n",
        "else:\n",
        "  print('\\nread is not mapped to forward strand (5\\' - 3\\')')\n"
      ]
    },
    {
      "cell_type": "code",
      "execution_count": 8,
      "metadata": {
        "id": "ClOX2Bv5TvSU"
      },
      "outputs": [],
      "source": [
        "# Flag"
      ]
    },
    {
      "cell_type": "code",
      "execution_count": 31,
      "metadata": {
        "colab": {
          "base_uri": "https://localhost:8080/"
        },
        "id": "-gX2Ac0JXKgU",
        "outputId": "645c60a7-27a5-4b27-87bd-d683f97d4f97"
      },
      "outputs": [
        {
          "output_type": "stream",
          "name": "stdout",
          "text": [
            "flag:\n",
            "99\n"
          ]
        }
      ],
      "source": [
        "flag = segment.flag\n",
        "\n",
        "print('flag:')\n",
        "print(flag)"
      ]
    },
    {
      "cell_type": "code",
      "execution_count": 34,
      "metadata": {
        "colab": {
          "base_uri": "https://localhost:8080/"
        },
        "id": "hhZp1rFPcrJr",
        "outputId": "946c5989-5d7a-491a-e69d-b31ba5eadce6"
      },
      "outputs": [
        {
          "output_type": "stream",
          "name": "stdout",
          "text": [
            "template having multiple segments in sequencing\n",
            "each segment properly aligned according to the aligner\n",
            "SEQ of the next segment in the template being reversed\n",
            "the first segment in the template\n",
            "\n",
            "execution time:\n",
            "0.00022912025451660156\n"
          ]
        }
      ],
      "source": [
        "import time\n",
        "\n",
        "flags = {\n",
        "    1 : 'template having multiple segments in sequencing',\n",
        "    2 : 'each segment properly aligned according to the aligner',\n",
        "    4 : 'segment unmapped',\n",
        "    8 : 'next segment in the template unmapped',\n",
        "    16 : 'SEQ being reverse complemented',\n",
        "    32 : 'SEQ of the next segment in the template being reversed',\n",
        "    64 : 'the first segment in the template',\n",
        "    128 : 'the last segment in the template',\n",
        "    256 : 'secondary alignment',\n",
        "    512 : 'not passing quality controls',\n",
        "    1024 : 'PCR or optical duplicate',\n",
        "    2048 : 'supplementary alignment'\n",
        "}\n",
        "\n",
        "start = time.time()\n",
        "\n",
        "for f, message in flags.items():\n",
        "  if flag & f:\n",
        "    print(message)\n",
        "\n",
        "end = time.time()\n",
        "print('\\nexecution time:')\n",
        "print(end - start)"
      ]
    },
    {
      "cell_type": "code",
      "execution_count": 11,
      "metadata": {
        "colab": {
          "base_uri": "https://localhost:8080/"
        },
        "id": "SHOsMLuUWelS",
        "outputId": "b10ad095-7f67-41a2-ab90-3d4a5f210d95"
      },
      "outputs": [
        {
          "output_type": "stream",
          "name": "stdout",
          "text": [
            "99\n",
            "99\n",
            "163\n",
            "99\n",
            "163\n",
            "99\n",
            "113\n",
            "99\n",
            "163\n",
            "163\n"
          ]
        }
      ],
      "source": [
        "bamfile.close()\n",
        "bamfile = pysam.AlignmentFile(\"merged-normal.bam\", \"rb\")\n",
        "\n",
        "num_of_reads = 10\n",
        "i = 0\n",
        "\n",
        "for read in bamfile:\n",
        "  i+=1\n",
        "  print(read.flag)\n",
        "  if i>=10:\n",
        "    break"
      ]
    },
    {
      "cell_type": "code",
      "execution_count": 12,
      "metadata": {
        "id": "221hCraUW6CO"
      },
      "outputs": [],
      "source": [
        "# all reads in the file"
      ]
    },
    {
      "cell_type": "code",
      "execution_count": 13,
      "metadata": {
        "colab": {
          "base_uri": "https://localhost:8080/"
        },
        "id": "RGUiYePLpuPt",
        "outputId": "6b439ee1-b916-48b2-c75a-be2107c8f115"
      },
      "outputs": [
        {
          "output_type": "stream",
          "name": "stdout",
          "text": [
            "number of unmapped reads:\n",
            "12290\n"
          ]
        }
      ],
      "source": [
        "bamfile.close()\n",
        "bamfile = pysam.AlignmentFile(\"merged-normal.bam\", \"rb\")\n",
        "\n",
        "num_of_unmapped = 0\n",
        "\n",
        "for read in bamfile:\n",
        "  if read.is_unmapped:\n",
        "    num_of_unmapped+=1\n",
        "\n",
        "print('number of unmapped reads:')\n",
        "print(num_of_unmapped)"
      ]
    },
    {
      "cell_type": "code",
      "execution_count": 14,
      "metadata": {
        "colab": {
          "base_uri": "https://localhost:8080/"
        },
        "id": "D2qzenbYqMgz",
        "outputId": "fe1aa9b4-d45c-4717-d263-9c7e830e4396"
      },
      "outputs": [
        {
          "output_type": "stream",
          "name": "stdout",
          "text": [
            "total number of reads in file:\n",
            "1717401\n"
          ]
        }
      ],
      "source": [
        "bamfile.close()\n",
        "bamfile = pysam.AlignmentFile(\"merged-normal.bam\", \"rb\")\n",
        "\n",
        "total_num_of_reads = 0\n",
        "\n",
        "for read in bamfile:\n",
        "  total_num_of_reads +=1\n",
        "\n",
        "print('total number of reads in file:')\n",
        "print(total_num_of_reads)"
      ]
    },
    {
      "cell_type": "code",
      "execution_count": 15,
      "metadata": {
        "colab": {
          "base_uri": "https://localhost:8080/"
        },
        "id": "l8b_yLTWsE_-",
        "outputId": "abbfea03-ce9a-4eef-95e8-95149465d027"
      },
      "outputs": [
        {
          "output_type": "stream",
          "name": "stdout",
          "text": [
            "number of reads with mapping quality 0:\n",
            "79442\n"
          ]
        }
      ],
      "source": [
        "bamfile.close()\n",
        "bamfile = pysam.AlignmentFile(\"merged-normal.bam\", \"rb\")\n",
        "\n",
        "num = 0\n",
        "\n",
        "for read in bamfile:\n",
        "  if read.mapping_quality == 0:\n",
        "    num +=1\n",
        "\n",
        "print('number of reads with mapping quality 0:')\n",
        "print(num)"
      ]
    },
    {
      "cell_type": "code",
      "execution_count": 22,
      "metadata": {
        "colab": {
          "base_uri": "https://localhost:8080/"
        },
        "id": "Ks4GmAwxs4RS",
        "outputId": "476dc118-4014-4307-d627-5aeef564d9bb"
      },
      "outputs": [
        {
          "output_type": "stream",
          "name": "stdout",
          "text": [
            "average quality:\n",
            "55.854162190426116\n"
          ]
        }
      ],
      "source": [
        "bamfile.close()\n",
        "bamfile = pysam.AlignmentFile(\"merged-normal.bam\", \"rb\")\n",
        "\n",
        "sum_of_qualities = 0\n",
        "\n",
        "for read in bamfile:\n",
        "  sum_of_qualities += read.mapping_quality\n",
        "\n",
        "average_quality = sum_of_qualities / total_num_of_reads\n",
        "\n",
        "print('average quality:')\n",
        "print(average_quality)"
      ]
    },
    {
      "cell_type": "code",
      "execution_count": 23,
      "metadata": {
        "colab": {
          "base_uri": "https://localhost:8080/"
        },
        "id": "l-PZT0v1tOLd",
        "outputId": "98e6def4-824b-4808-8897-f2cddf085681"
      },
      "outputs": [
        {
          "output_type": "stream",
          "name": "stdout",
          "text": [
            "average quality (without 0):\n",
            "58.563122764367115\n"
          ]
        }
      ],
      "source": [
        "bamfile.close()\n",
        "bamfile = pysam.AlignmentFile(\"merged-normal.bam\", \"rb\")\n",
        "\n",
        "sum_of_qualities = 0\n",
        "\n",
        "for read in bamfile:\n",
        "  if read.mapping_quality == 0:\n",
        "    continue\n",
        "  sum_of_qualities += read.mapping_quality\n",
        "\n",
        "average_quality = sum_of_qualities / (total_num_of_reads-num)\n",
        "\n",
        "print('average quality (without 0):')\n",
        "print(average_quality)"
      ]
    }
  ],
  "metadata": {
    "colab": {
      "provenance": []
    },
    "kernelspec": {
      "display_name": "Python 3",
      "name": "python3"
    },
    "language_info": {
      "name": "python"
    }
  },
  "nbformat": 4,
  "nbformat_minor": 0
}